{
 "cells": [
  {
   "cell_type": "markdown",
   "id": "c131375c",
   "metadata": {},
   "source": [
    "# CF969-7-SP-CO Big Data for Financial Computation"
   ]
  },
  {
   "cell_type": "markdown",
   "id": "46886fe1",
   "metadata": {},
   "source": [
    "# Assignment Part IIB"
   ]
  },
  {
   "cell_type": "markdown",
   "id": "4f9bb897",
   "metadata": {},
   "source": [
    "### Importing Essential Libraries \n",
    "Below we have imported all the libraries we are gonna use in our solution"
   ]
  },
  {
   "cell_type": "code",
   "execution_count": 51,
   "id": "8dc70a78",
   "metadata": {},
   "outputs": [],
   "source": [
    "import pandas as pd\n",
    "import matplotlib.pyplot as plt\n",
    "from sklearn.preprocessing import LabelEncoder\n",
    "from sklearn.model_selection import train_test_split\n",
    "from sklearn.linear_model import LinearRegression, LogisticRegression\n",
    "from sklearn.linear_model import Ridge, Lasso\n",
    "from sklearn.neural_network import MLPClassifier\n",
    "from sklearn.metrics import accuracy_score\n",
    "from sklearn.linear_model import RidgeClassifier\n",
    "from sklearn.metrics import classification_report, confusion_matrix\n",
    "from sklearn.linear_model import LassoCV\n",
    "from sklearn.metrics import classification_report, confusion_matrix\n",
    "from sklearn.linear_model import LogisticRegression\n",
    "from sklearn.metrics import classification_report, confusion_matrix\n",
    "from sklearn.neural_network import MLPClassifier\n",
    "from sklearn.metrics import classification_report, confusion_matrix\n",
    "\n",
    "import warnings\n",
    "warnings.filterwarnings('ignore')"
   ]
  },
  {
   "cell_type": "markdown",
   "id": "5c310d90",
   "metadata": {},
   "source": [
    "### Loading our DataSet \n",
    "To start, we will first read the dataset provided by our module supervisor on moodle. To read the csv file, you can use the \"pandas\" library in Python. "
   ]
  },
  {
   "cell_type": "code",
   "execution_count": 52,
   "id": "d3f8a88f",
   "metadata": {},
   "outputs": [],
   "source": [
    "# Load the dataset\n",
    "df = pd.read_csv('MLF_GP1_CreditScore.csv')\n"
   ]
  },
  {
   "cell_type": "markdown",
   "id": "50ed7731",
   "metadata": {},
   "source": [
    "### Pre-processing steps applied on the Dataset \n",
    "In this section, we will be preparing the data and performing analysis on it. After that, we can preprocess the data by performing feature scaling on the data and encoding the categorical variables using LabelEncoder. Both of these steps can be performed in order. In this stage, we are going to get our dataset ready so that we can apply our Machine Learning models to it successfully in the next step.\n",
    "indicate that the 'Rating' column will serve as the category column. After that, we put the category values via a label encoder so that they can be converted into numerical numbers."
   ]
  },
  {
   "cell_type": "code",
   "execution_count": 53,
   "id": "7327939d",
   "metadata": {},
   "outputs": [
    {
     "name": "stdout",
     "output_type": "stream",
     "text": [
      "Categorical columns: ['Rating']\n"
     ]
    }
   ],
   "source": [
    "cat_col = [col for col in df.columns if df[col].dtype == 'object']\n",
    "print('Categorical columns:', cat_col)\n",
    "\n",
    "def convert_categorical_to_numerical(data, col):\n",
    "    LE = LabelEncoder()\n",
    "\n",
    "    # encoding the categorical columns in the DataFrame using LabelEncoder\n",
    "    for col in cat_col:\n",
    "        if data[col].dtype == 'object':\n",
    "            data[col] = LE.fit_transform(df[col])\n",
    "\n",
    "    return data\n",
    "\n",
    "cat_free_data = convert_categorical_to_numerical(df, cat_col)\n"
   ]
  },
  {
   "cell_type": "markdown",
   "id": "bca5386b",
   "metadata": {},
   "source": [
    "Here we are removing the column labelled 'InvGrd' from the DataFrame df. When a target variable or output variable is separated from the input or feature variables, and we wish to separate them out prior to the construction of a model, this is the procedure that is followed. where \"X\" is the set of independent variables and \"y\" is the target variable."
   ]
  },
  {
   "cell_type": "code",
   "execution_count": 54,
   "id": "f03ce144",
   "metadata": {},
   "outputs": [
    {
     "name": "stdout",
     "output_type": "stream",
     "text": [
      "   Sales/Revenues  Gross Margin    EBITDA  EBITDA Margin  \\\n",
      "0       -0.005496      0.030763  0.018885       0.024515   \n",
      "1       -0.005496      0.030763  0.088716       0.094733   \n",
      "2       -0.007045      0.023159  0.088716       0.096440   \n",
      "3       -0.009396      0.028400  0.088716       0.099046   \n",
      "\n",
      "   Net Income Before Extras  Total Debt  Net Debt   LT Debt   ST Debt  \\\n",
      "0                  0.146849   -0.029710 -0.019296 -0.042648  0.049875   \n",
      "1                  0.146849   -0.029710 -0.019296 -0.042648  0.049875   \n",
      "2                  0.108590    0.039410  0.034268  0.009059  0.250371   \n",
      "3                  0.146137    0.030071  0.036938 -0.016964  0.356994   \n",
      "\n",
      "       Cash  ...       CFO  Interest Coverage  Total Liquidity  \\\n",
      "0 -0.133716  ...  0.068526           0.136748         0.392143   \n",
      "1 -0.133716  ...  0.068526           0.214657         0.392143   \n",
      "2  0.101315  ...  0.068136           0.205290         0.483257   \n",
      "3 -0.052606  ...  0.073784           0.232991         0.996955   \n",
      "\n",
      "   Current Liquidity  Current Liabilities  EPS Before Extras        PE  \\\n",
      "0          -0.184887             0.062781           0.148305  0.100409   \n",
      "1          -0.184887             0.062781           0.148305 -0.089598   \n",
      "2          -0.017877             0.121357           0.110656 -0.045142   \n",
      "3          -0.122017             0.079051           0.151639 -0.008231   \n",
      "\n",
      "        ROA       ROE  Rating  \n",
      "0  0.163266  0.102521       0  \n",
      "1  0.163266  0.102521       0  \n",
      "2  0.105711  0.103378       0  \n",
      "3  0.162421  0.132295       0  \n",
      "\n",
      "[4 rows x 27 columns]\n"
     ]
    }
   ],
   "source": [
    "# Define the input and target variables\n",
    "X = df.drop(['InvGrd'], axis=1)\n",
    "y = df['InvGrd']\n",
    "print(X.head(4))"
   ]
  },
  {
   "cell_type": "markdown",
   "id": "c0f1874e",
   "metadata": {},
   "source": [
    "### Splitting of the dataset between training set and a test set in a 80%:20% ratio.\n",
    "The dataset is going to be partitioned into a training set and a testing set. The testing data will be used to evaluate how well the model performs on data that it has never seen, whereas the training data will be utilised for training purposes. The distribution of the data will be 80:20, which means that 80% of it will go into the training set, and 20% of it will go into the testing set. The train_test_split() method found in scikit-learn can be utilised to accomplish this goal."
   ]
  },
  {
   "cell_type": "code",
   "execution_count": 55,
   "id": "11f39bb8",
   "metadata": {},
   "outputs": [],
   "source": [
    "X_train, X_test, y_train, y_test = train_test_split(X, y, test_size=0.2, random_state=42)\n"
   ]
  },
  {
   "cell_type": "markdown",
   "id": "083f8e9b",
   "metadata": {},
   "source": [
    "# Applying Machine Learning Models:\n",
    "We are able to employ machine learning methodologies in order to handle the challenge of classifying a company's credit rating and making a prediction as to whether or not the company is regarded as investment grade. The following are some of the ways in which we can put the strategies outlined into action:\n",
    "After data slicing we then fit and evaluate three different models:\n",
    "\n",
    "###### 1) Linear regression with Ridge and Lasso regularization\n",
    "###### 2) Logistic regression with Ridge and Lasso regularization\n",
    "###### 3) Neural Networks based approach\n",
    "\n",
    "We will be focusing on the three Machine Learning Model approaches and after training the models on the training set and evaluating them on the test set, the classification report and confusion matrix are generated for each approach. The classification report summarises the performance of the model in terms of precision, recall, and F1 score, whereas the confusion matrix displays the total amount of true positives, false positives, true negatives, and false negatives."
   ]
  },
  {
   "cell_type": "markdown",
   "id": "743e1c12",
   "metadata": {},
   "source": [
    "## 1) Linear regression approach with Ridge (L1) and Lasso (L2) regularization:"
   ]
  },
  {
   "cell_type": "code",
   "execution_count": 56,
   "id": "2ebfccc0",
   "metadata": {},
   "outputs": [
    {
     "name": "stdout",
     "output_type": "stream",
     "text": [
      "---------------------------------------------------------------\n",
      "-----------------Linear Regression Ridge(L1)-------------------\n",
      "---------------------------------------------------------------\n",
      "Ridge Regularization Accuracy: 75.29%\n",
      "---------------------------------------------------------------\n",
      "Classification Report:\n",
      "              precision    recall  f1-score   support\n",
      "\n",
      "           0       0.86      0.07      0.13        84\n",
      "           1       0.77      1.00      0.87       256\n",
      "\n",
      "    accuracy                           0.77       340\n",
      "   macro avg       0.81      0.53      0.50       340\n",
      "weighted avg       0.79      0.77      0.68       340\n",
      "\n",
      "---------------------------------------------------------------\n",
      "Confusion Matrix:\n",
      "[[  6  78]\n",
      " [  1 255]]\n",
      "---------------------------------------------------------------\n",
      "---------------------------------------------------------------\n",
      "----------------Linear Regression Lasso(L2)--------------------\n",
      "---------------------------------------------------------------\n",
      "Lasso Regularization Accuracy: 75.29%\n",
      "---------------------------------------------------------------\n",
      "Classification Report:\n",
      "              precision    recall  f1-score   support\n",
      "\n",
      "           0       1.00      0.01      0.02        84\n",
      "           1       0.76      1.00      0.86       256\n",
      "\n",
      "    accuracy                           0.76       340\n",
      "   macro avg       0.88      0.51      0.44       340\n",
      "weighted avg       0.82      0.76      0.65       340\n",
      "\n",
      "---------------------------------------------------------------\n",
      "Confusion Matrix:\n",
      "[[  1  83]\n",
      " [  0 256]]\n"
     ]
    }
   ],
   "source": [
    "print(\"---------------------------------------------------------------\")\n",
    "print(\"-----------------Linear Regression Ridge(L1)-------------------\")\n",
    "print(\"---------------------------------------------------------------\")\n",
    "# Linear Regression with Ridge Regularization\n",
    "reg_ridge = Ridge(alpha=1.0, fit_intercept=True, normalize=True)\n",
    "reg_ridge.fit(X_train, y_train)\n",
    "ridge_prd = reg_ridge.predict(X_test)\n",
    "ridge_prd_binary = [1 if pred >= 0.5 else 0 for pred in ridge_prd]\n",
    "ridge_acc = accuracy_score(y_test, ridge_prd_binary)\n",
    "print(\"Ridge Regularization Accuracy: %.2f%%\" % ((ridge_acc)*100))\n",
    "print(\"---------------------------------------------------------------\")\n",
    "reg_ridge = RidgeClassifier(alpha=0.5, solver='auto', random_state=42)\n",
    "reg_ridge.fit(X_train, y_train)\n",
    "y_pred = reg_ridge.predict(X_test)\n",
    "print(\"Classification Report:\")\n",
    "print(classification_report(y_test, y_pred)) \n",
    "print(\"---------------------------------------------------------------\")\n",
    "print(\"Confusion Matrix:\")\n",
    "print(confusion_matrix(y_test, y_pred))\n",
    "# print(\"\")\n",
    "# print(\"\")\n",
    "# print(\"Classification Report:\")\n",
    "# print(classification_report(y_test, ridge_prd_binary)) \n",
    "# print(\"Confusion Matrix:\")\n",
    "# print(confusion_matrix(y_test, ridge_prd_binary))\n",
    "\n",
    "\n",
    "print(\"---------------------------------------------------------------\")\n",
    "print(\"---------------------------------------------------------------\")\n",
    "print(\"----------------Linear Regression Lasso(L2)--------------------\")\n",
    "print(\"---------------------------------------------------------------\")\n",
    "# Linear Regression with Lasso Regularization\n",
    "reg_lasso = Lasso(alpha=1.0, fit_intercept=True, normalize=True)\n",
    "reg_lasso.fit(X_train, y_train)\n",
    "lasso_pred = reg_lasso.predict(X_test)\n",
    "lasso_pred_binary = [1 if pred >= 0.5 else 0 for pred in lasso_pred]\n",
    "lasso_acc = accuracy_score(y_test, lasso_pred_binary)\n",
    "print(\"Lasso Regularization Accuracy: %.2f%%\" % ((lasso_acc)*100))\n",
    "print(\"---------------------------------------------------------------\")\n",
    "reg_lasso = LassoCV(cv=5, random_state=42)\n",
    "reg_lasso.fit(X_train, y_train)\n",
    "y_pred = reg_lasso.predict(X_test).round()\n",
    "\n",
    "print(\"Classification Report:\")\n",
    "print(classification_report(y_test, y_pred))\n",
    "print(\"---------------------------------------------------------------\")\n",
    "print(\"Confusion Matrix:\")\n",
    "print(confusion_matrix(y_test, y_pred))\n"
   ]
  },
  {
   "cell_type": "markdown",
   "id": "adfaf610",
   "metadata": {},
   "source": [
    "We are able to make an accurate prediction regarding a company's investment grade status by utilising logistic regression. Regularization techniques like Ridge and Lasso can be utilised to cut down on overfitting. The amount of regularisation that is applied can be adjusted through the use of its alpha parameter. The above results shows that both L1, L2 Linear regression techniques Ridge and Lasso are giving equal accuracy of about 75.29% on our provided dataset. \n",
    "Overall, Ridge shows higher Recall, F1-score values as compared to Lasso. Whereas, Lasso surpassed Ridge in terms of Precision values."
   ]
  },
  {
   "cell_type": "markdown",
   "id": "44f1dcd5",
   "metadata": {},
   "source": [
    "## 2) Logistic regression approach with Ridge (L1) and Lasso (L2) regularization:"
   ]
  },
  {
   "cell_type": "code",
   "execution_count": 57,
   "id": "be90267f",
   "metadata": {},
   "outputs": [
    {
     "name": "stdout",
     "output_type": "stream",
     "text": [
      "---------------------------------------------------------------\n",
      "---------------Logistic Regression Ridge(L1)-------------------\n",
      "---------------------------------------------------------------\n",
      "Logistic Regression with Ridge Regularization Accuracy:76.47%\n",
      "---------------------------------------------------------------\n",
      "Classification Report:\n",
      "              precision    recall  f1-score   support\n",
      "\n",
      "           0       0.75      0.07      0.13        84\n",
      "           1       0.77      0.99      0.86       256\n",
      "\n",
      "    accuracy                           0.76       340\n",
      "   macro avg       0.76      0.53      0.50       340\n",
      "weighted avg       0.76      0.76      0.68       340\n",
      "\n",
      "Confusion Matrix:\n",
      "[[  6  78]\n",
      " [  2 254]]\n",
      "---------------------------------------------------------------\n",
      "---------------------------------------------------------------\n",
      "---------------Logistic Regression Lasso(L2)-------------------\n",
      "---------------------------------------------------------------\n",
      "Logistic Regression with Lasso Regularization Accuracy:74.41%\n",
      "---------------------------------------------------------------\n",
      "Classification Report:\n",
      "              precision    recall  f1-score   support\n",
      "\n",
      "           0       0.20      0.01      0.02        84\n",
      "           1       0.75      0.98      0.85       256\n",
      "\n",
      "    accuracy                           0.74       340\n",
      "   macro avg       0.48      0.50      0.44       340\n",
      "weighted avg       0.62      0.74      0.65       340\n",
      "\n",
      "Confusion Matrix:\n",
      "[[  1  83]\n",
      " [  4 252]]\n",
      "---------------------------------------------------------------\n"
     ]
    }
   ],
   "source": [
    "print(\"---------------------------------------------------------------\")\n",
    "print(\"---------------Logistic Regression Ridge(L1)-------------------\")\n",
    "print(\"---------------------------------------------------------------\")\n",
    "\n",
    "# Logistic Regression with Ridge Regularization\n",
    "log_ridge = LogisticRegression(penalty='l2', solver='lbfgs')\n",
    "log_ridge.fit(X_train, y_train)\n",
    "ridge_log_pred = log_ridge.predict(X_test)\n",
    "ridge_log_acc = accuracy_score(y_test, ridge_log_pred)\n",
    "print(\"Logistic Regression with Ridge Regularization Accuracy:%.2f%%\" % ((ridge_log_acc)*100))\n",
    "print(\"---------------------------------------------------------------\")\n",
    "log_ridge = LogisticRegression(penalty='l2', C=1, solver='lbfgs', random_state=42)\n",
    "log_ridge.fit(X_train, y_train)\n",
    "y_pred = log_ridge.predict(X_test)\n",
    "\n",
    "print(\"Classification Report:\")\n",
    "print(classification_report(y_test, y_pred))\n",
    "print(\"Confusion Matrix:\")\n",
    "print(confusion_matrix(y_test, y_pred))\n",
    "\n",
    "print(\"---------------------------------------------------------------\")\n",
    "print(\"---------------------------------------------------------------\")\n",
    "print(\"---------------Logistic Regression Lasso(L2)-------------------\")\n",
    "print(\"---------------------------------------------------------------\")\n",
    "# Logistic Regression with Lasso Regularization\n",
    "log_lasso = LogisticRegression(penalty='l1', solver='saga') #'liblinear'\n",
    "log_lasso.fit(X_train, y_train)\n",
    "lasso_log_pred = log_lasso.predict(X_test)\n",
    "lasso_log_acc = accuracy_score(y_test, lasso_log_pred)\n",
    "print(\"Logistic Regression with Lasso Regularization Accuracy:%.2f%%\" % ((lasso_log_acc)*100))\n",
    "print(\"---------------------------------------------------------------\")\n",
    "log_lasso = LogisticRegression(penalty='l1', C=1, solver='saga', random_state=42)\n",
    "log_lasso.fit(X_train, y_train)\n",
    "y_pred = log_lasso.predict(X_test)\n",
    "\n",
    "print(\"Classification Report:\")\n",
    "print(classification_report(y_test, y_pred))\n",
    "print(\"Confusion Matrix:\")\n",
    "print(confusion_matrix(y_test, y_pred))\n",
    "print(\"---------------------------------------------------------------\")\n"
   ]
  },
  {
   "cell_type": "markdown",
   "id": "5cc8f451",
   "metadata": {},
   "source": [
    "Similar to the previous method, we can predict whether a company has an investment grade using logistic regression. Additionally, Ridge and Lasso regularisation can be utilised to reduce overfitting. The above output shows that Logistic Regression Ridge is much more promising as compared to Logistic Lasso or any Linear regression method with having accuracy of 76.47% which higher then all above mentioned techniques. Its Precision, Recall, F1-score also overshadow others."
   ]
  },
  {
   "cell_type": "markdown",
   "id": "64298780",
   "metadata": {},
   "source": [
    "## 3) Neural Networks based approach"
   ]
  },
  {
   "cell_type": "code",
   "execution_count": 58,
   "id": "e63cd6f5",
   "metadata": {},
   "outputs": [
    {
     "name": "stdout",
     "output_type": "stream",
     "text": [
      "---------------------------------------------------------------\n",
      "----------------Neural Network Classifier----------------------\n",
      "---------------------------------------------------------------\n",
      "Neural Network Accuracy: 91.18%\n",
      "---------------------------------------------------------------\n",
      "Classification Report:\n",
      "              precision    recall  f1-score   support\n",
      "\n",
      "           0       0.94      0.74      0.83        84\n",
      "           1       0.92      0.98      0.95       256\n",
      "\n",
      "    accuracy                           0.92       340\n",
      "   macro avg       0.93      0.86      0.89       340\n",
      "weighted avg       0.92      0.92      0.92       340\n",
      "\n",
      "Confusion Matrix:\n",
      "[[ 62  22]\n",
      " [  4 252]]\n",
      "---------------------------------------------------------------\n"
     ]
    }
   ],
   "source": [
    "print(\"---------------------------------------------------------------\")\n",
    "print(\"----------------Neural Network Classifier----------------------\")\n",
    "print(\"---------------------------------------------------------------\")\n",
    "# Neural Network Classifier\n",
    "clasf = MLPClassifier(hidden_layer_sizes=(16, 8), activation='relu', solver='adam', max_iter=1000, random_state=42)\n",
    "clasf.fit(X_train, y_train)\n",
    "nn_prd = clasf.predict(X_test)\n",
    "nn_acc = accuracy_score(y_test, nn_prd)\n",
    "print(\"Neural Network Accuracy: %.2f%%\" % ((nn_acc)*100))\n",
    "print(\"---------------------------------------------------------------\")\n",
    "mlp_clasf = MLPClassifier(hidden_layer_sizes=(100,), max_iter=500, alpha=0.0001,\n",
    "                    solver='adam', activation='relu', random_state=42)\n",
    "mlp_clasf.fit(X_train, y_train)\n",
    "y_pred = mlp_clasf.predict(X_test)\n",
    "\n",
    "print(\"Classification Report:\")\n",
    "print(classification_report(y_test, y_pred))\n",
    "print(\"Confusion Matrix:\")\n",
    "print(confusion_matrix(y_test, y_pred))\n",
    "print(\"---------------------------------------------------------------\")"
   ]
  },
  {
   "cell_type": "markdown",
   "id": "9ac2effd",
   "metadata": {},
   "source": [
    "Using MLPClassifier from the sklearn library, this code implements a Neural Network classifier. It then initialises the classifier with two hidden layers containing 16 and 8 nodes, the 'relu' activation function, the 'adam' solver, and a maximum of one thousand iterations. It then applies the classifier to the training set (X_train and y_train), predicts the labels for the test set.\n",
    "Finally, the classification report and confusion matrix for the predicted labels are printed using the classification_report() and confusion_matrix() functions from the sklearn.metrics package.\n",
    "By comparing the performance of each model and choosing the optimal model based on the evaluation metrics and domain expertise, it is evident that Neural Network is the best among them with outshining in all metrics of classification with having 91.18% of Accuracy and higher values of Precision, recall, F1-score all together with comparision of previous model approaches."
   ]
  },
  {
   "cell_type": "markdown",
   "id": "9ec229fc",
   "metadata": {},
   "source": [
    "## Cumulative Comparison of Classifiers\n",
    "\n",
    "Comparison of each method's accuracy, precision, recall, and F1 score, as well as confusion matrices on the test set, can be used to evaluate the efficiency of the methods and determine whether or not they are suitable for solving this problem. In addition, we are able to compare the interpretability of the results and visualise them with the accuracy of the classifiers serving as the important component in order to conduct a cumulative comparison between them."
   ]
  },
  {
   "cell_type": "code",
   "execution_count": 59,
   "id": "a1a9eedb",
   "metadata": {},
   "outputs": [
    {
     "data": {
      "text/plain": [
       "<BarContainer object of 5 artists>"
      ]
     },
     "execution_count": 59,
     "metadata": {},
     "output_type": "execute_result"
    },
    {
     "data": {
      "image/png": "[encoded data removed]",
      "text/plain": [
       "<Figure size 900x500 with 1 Axes>"
      ]
     },
     "metadata": {},
     "output_type": "display_data"
    }
   ],
   "source": [
    "plt.figure(figsize=(9, 5))\n",
    "plt.title('Classifiers Comparision based on given problem statement')\n",
    "models = [' Linear(Ridge)', 'Linear(Lasso)', ' Logistic(Ridge)', 'Logistic(Lasso)', 'Neural Netwoork']\n",
    "res =[ridge_acc, lasso_acc, ridge_log_acc, lasso_log_acc, nn_acc]\n",
    "plt.bar(models, res)"
   ]
  },
  {
   "cell_type": "markdown",
   "id": "70e84fe4",
   "metadata": {},
   "source": [
    "## Conclusion\n",
    "\n",
    "After the execution of and comparison of three distinct machine learning models for the task of predicting whether or not a company is in an investment grade, it is possible to draw the conclusion that the approach based on Neural Networks outperformed the other two models, which were a linear regression with Ridge and Lasso, and a logistic regression with Ridge and Lasso.\n",
    "\n",
    "The Neural Network model obtained the greatest possible accuracy score of 91.18% and offered a superior classification report as well as a confusion matrix. This suggests that, when compared to the other two models, the Neural Network model is preferable in terms of its ability to perform the classification task of forecasting investment-grade firms."
   ]
  }
 ],
 "metadata": {
  "kernelspec": {
   "display_name": "Python 3 (ipykernel)",
   "language": "python",
   "name": "python3"
  },
  "language_info": {
   "codemirror_mode": {
    "name": "ipython",
    "version": 3
   },
   "file_extension": ".py",
   "mimetype": "text/x-python",
   "name": "python",
   "nbconvert_exporter": "python",
   "pygments_lexer": "ipython3",
   "version": "3.9.13"
  }
 },
 "nbformat": 4,
 "nbformat_minor": 5
}
